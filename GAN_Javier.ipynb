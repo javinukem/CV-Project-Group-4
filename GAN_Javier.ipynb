{
  "cells": [
    {
      "cell_type": "markdown",
      "metadata": {
        "id": "view-in-github",
        "colab_type": "text"
      },
      "source": [
        "<a href=\"https://colab.research.google.com/github/javinukem/CV-Project-Group-4/blob/main/GAN_Javier.ipynb\" target=\"_parent\"><img src=\"https://colab.research.google.com/assets/colab-badge.svg\" alt=\"Open In Colab\"/></a>"
      ]
    },
    {
      "cell_type": "code",
      "execution_count": 1,
      "metadata": {
        "id": "chy78_8Bggfg"
      },
      "outputs": [],
      "source": [
        "import torch\n",
        "import torch.nn as nn\n",
        "import torch.optim as optim\n",
        "from torchvision import datasets, transforms\n",
        "from torch.utils.data import DataLoader, Subset\n",
        "from skimage.color import rgb2lab, lab2rgb\n",
        "import numpy as np"
      ]
    },
    {
      "cell_type": "code",
      "execution_count": 3,
      "metadata": {
        "id": "9Al1TdYEggfl"
      },
      "outputs": [],
      "source": [
        "# Define the Generator\n",
        "class Generator(nn.Module):\n",
        "    def __init__(self):\n",
        "        super(Generator, self).__init__()\n",
        "        self.main = nn.Sequential(\n",
        "            nn.Conv2d(1, 96, kernel_size=4, stride=2, padding=1),  # Increased filters from 64 to 96\n",
        "            nn.ReLU(True),\n",
        "            nn.Conv2d(96, 192, kernel_size=4, stride=2, padding=1),  # Increased filters from 128 to 192\n",
        "            nn.BatchNorm2d(192),\n",
        "            nn.ReLU(True),\n",
        "            nn.Conv2d(192, 384, kernel_size=4, stride=2, padding=1),  # Increased filters from 256 to 384\n",
        "            nn.BatchNorm2d(384),\n",
        "            nn.ReLU(True),\n",
        "            nn.Conv2d(384, 768, kernel_size=4, stride=2, padding=1),  # Increased filters from 512 to 768\n",
        "            nn.BatchNorm2d(768),\n",
        "            nn.ReLU(True),\n",
        "            nn.ConvTranspose2d(768, 384, kernel_size=4, stride=2, padding=1),\n",
        "            nn.BatchNorm2d(384),\n",
        "            nn.ReLU(True),\n",
        "            nn.ConvTranspose2d(384, 192, kernel_size=4, stride=2, padding=1),\n",
        "            nn.BatchNorm2d(192),\n",
        "            nn.ReLU(True),\n",
        "            nn.ConvTranspose2d(192, 96, kernel_size=4, stride=2, padding=1),\n",
        "            nn.BatchNorm2d(96),\n",
        "            nn.ReLU(True),\n",
        "            nn.ConvTranspose2d(96, 2, kernel_size=4, stride=2, padding=1),\n",
        "            nn.Tanh()\n",
        "        )\n",
        "    def forward(self, x):\n",
        "        return self.main(x)"
      ]
    },
    {
      "cell_type": "code",
      "execution_count": 4,
      "metadata": {
        "id": "YVb13Puzggfn"
      },
      "outputs": [],
      "source": [
        "# Define the Discriminator\n",
        "class Discriminator(nn.Module):\n",
        "    def __init__(self):\n",
        "        super(Discriminator, self).__init__()\n",
        "        self.main = nn.Sequential(\n",
        "            nn.Conv2d(3, 64, kernel_size=4, stride=2, padding=1),\n",
        "            nn.LeakyReLU(0.2, inplace=True),\n",
        "            nn.Conv2d(64, 128, kernel_size=4, stride=2, padding=1),\n",
        "            nn.BatchNorm2d(128),\n",
        "            nn.LeakyReLU(0.2, inplace=True),\n",
        "            nn.Conv2d(128, 256, kernel_size=4, stride=2, padding=1),\n",
        "            nn.BatchNorm2d(256),\n",
        "            nn.LeakyReLU(0.2, inplace=True),\n",
        "            nn.Conv2d(256, 512, kernel_size=4, stride=2, padding=1),\n",
        "            nn.BatchNorm2d(512),\n",
        "            nn.LeakyReLU(0.2, inplace=True),\n",
        "            nn.Conv2d(512, 1, kernel_size=4, stride=1, padding=0),\n",
        "            nn.Sigmoid()\n",
        "        )\n",
        "\n",
        "    def forward(self, x):\n",
        "        return self.main(x).view(-1, 1).squeeze(1)\n"
      ]
    },
    {
      "cell_type": "code",
      "execution_count": 5,
      "metadata": {
        "id": "8DwOyc8Aggfo"
      },
      "outputs": [],
      "source": [
        "# Initialize the models\n",
        "netG = Generator()\n",
        "netD = Discriminator()"
      ]
    },
    {
      "cell_type": "code",
      "execution_count": 6,
      "metadata": {
        "id": "1uvWxpJXggfp"
      },
      "outputs": [],
      "source": [
        "# Loss function and optimizers\n",
        "criterion = nn.BCELoss()\n",
        "\n",
        "# Combined Loss Function\n",
        "adversarial_loss = nn.BCELoss()  # Binary cross-entropy loss for GANs\n",
        "pixelwise_loss = nn.L1Loss()  # L1 loss for pixel-wise accuracy\n",
        "\n",
        "def compute_generator_loss(fake_output, real_ab, generated_ab):\n",
        "    # Adversarial loss\n",
        "    adversarial_loss_value = adversarial_loss(fake_output, torch.ones_like(fake_output))\n",
        "\n",
        "    # Pixel-wise L1 loss\n",
        "    pixelwise_loss_value = pixelwise_loss(generated_ab, real_ab)\n",
        "\n",
        "    # Total loss (you can adjust the weights of these components as needed)\n",
        "    total_loss = adversarial_loss_value + 100 * pixelwise_loss_value\n",
        "    return total_loss\n",
        "\n",
        "\n",
        "optimizerD = optim.Adam(netD.parameters(), lr=0.0001, betas=(0.5, 0.999))\n",
        "optimizerG = optim.Adam(netG.parameters(), lr=0.0001, betas=(0.5, 0.999))"
      ]
    },
    {
      "cell_type": "code",
      "execution_count": 7,
      "metadata": {
        "id": "7FtbCly-ggfq"
      },
      "outputs": [],
      "source": [
        "# Helper functions for Lab color space conversion\n",
        "def rgb_to_lab(img):\n",
        "    lab_img = rgb2lab(img)\n",
        "    l = lab_img[:, :, 0] / 100.0\n",
        "    ab = lab_img[:, :, 1:] / 128.0\n",
        "    return l, ab\n",
        "\n",
        "def lab_to_rgb(l, ab):\n",
        "    lab_img = np.zeros((l.shape[0], l.shape[1], 3))\n",
        "    lab_img[:, :, 0] = l\n",
        "    lab_img[:, :, 1:] = ab\n",
        "    rgb_img = lab2rgb(lab_img)\n",
        "    return rgb_img\n",
        "\n",
        "# Dataset transformations\n",
        "transform = transforms.Compose([\n",
        "    transforms.Resize((64, 64)),\n",
        "    transforms.ToTensor()\n",
        "])"
      ]
    },
    {
      "cell_type": "code",
      "execution_count": 8,
      "metadata": {
        "colab": {
          "base_uri": "https://localhost:8080/"
        },
        "id": "D_3pFwuOggfq",
        "outputId": "b2a27df2-fa72-4667-d3b9-b23355ca95a6"
      },
      "outputs": [
        {
          "output_type": "stream",
          "name": "stdout",
          "text": [
            "Downloading https://www.cs.toronto.edu/~kriz/cifar-10-python.tar.gz to ./data/cifar-10-python.tar.gz\n"
          ]
        },
        {
          "output_type": "stream",
          "name": "stderr",
          "text": [
            "100%|██████████| 170498071/170498071 [00:02<00:00, 76779921.50it/s]\n"
          ]
        },
        {
          "output_type": "stream",
          "name": "stdout",
          "text": [
            "Extracting ./data/cifar-10-python.tar.gz to ./data\n"
          ]
        }
      ],
      "source": [
        "# Load dataset (e.g., CIFAR-10)\n",
        "full_dataset = datasets.CIFAR10(root='./data', train=True, download=True, transform=transform)\n",
        "\n",
        "# Reduce the size of the dataset by taking a subset\n",
        "subset_size = 10000  # Choose the number of images you want to use\n",
        "subset_indices = list(range(subset_size))\n",
        "subset_dataset = Subset(full_dataset, subset_indices)\n",
        "\n",
        "# Create a DataLoader for the subset\n",
        "dataloader = DataLoader(subset_dataset, batch_size=64, shuffle=True, num_workers=2)\n",
        "\n"
      ]
    },
    {
      "cell_type": "code",
      "execution_count": null,
      "metadata": {
        "id": "nkhF-PPQggfr"
      },
      "outputs": [],
      "source": [
        "# Training loop (with modified generator updates)\n",
        "num_epochs = 20\n",
        "\n",
        "for epoch in range(num_epochs):\n",
        "    for i, data in enumerate(dataloader, 0):\n",
        "        # Prepare real data\n",
        "        real_images = data[0].numpy().transpose((0, 2, 3, 1))\n",
        "        lab_images = np.array([rgb2lab(img) for img in real_images])\n",
        "\n",
        "        l_channels = torch.tensor(lab_images[:, :, :, 0]).unsqueeze(1).float()\n",
        "        ab_channels = torch.tensor(lab_images[:, :, :, 1:]).permute(0, 3, 1, 2).float()\n",
        "\n",
        "        b_size = l_channels.size(0)\n",
        "        real_lab = torch.cat((l_channels, ab_channels), dim=1)\n",
        "\n",
        "        ############################\n",
        "        # (1) Update Discriminator: maximize log(D(x)) + log(1 - D(G(z)))\n",
        "        ###########################\n",
        "        netD.zero_grad()\n",
        "\n",
        "        # Train with real data\n",
        "        label = torch.full((b_size,), 1., dtype=torch.float)\n",
        "        output = netD(real_lab)\n",
        "        errD_real = criterion(output, label)\n",
        "        errD_real.backward()\n",
        "\n",
        "        # Train with fake data\n",
        "        noise = torch.randn(b_size, 1, 64, 64)\n",
        "        fake_ab = netG(noise)\n",
        "        fake_lab = torch.cat((l_channels, fake_ab), 1)\n",
        "        label.fill_(0.)\n",
        "\n",
        "        output = netD(fake_lab.detach())  # Detach to avoid backprop through G\n",
        "        errD_fake = criterion(output, label)\n",
        "        errD_fake.backward()\n",
        "        optimizerD.step()\n",
        "\n",
        "        ############################\n",
        "        # (2) Update Generator: maximize log(D(G(z))) + L1 loss for color accuracy\n",
        "        ###########################\n",
        "        netG.zero_grad()\n",
        "        label.fill_(1.)\n",
        "\n",
        "        output = netD(fake_lab)  # Pass the fake data through D again\n",
        "        adversarial_loss = criterion(output, label)\n",
        "\n",
        "        # L1 loss for pixel-wise accuracy between the generated and real 'ab' channels\n",
        "        l1_loss = nn.L1Loss()(fake_ab, ab_channels)\n",
        "\n",
        "        # Combine the adversarial loss and L1 loss (you can scale L1 loss as needed)\n",
        "        errG = adversarial_loss + 100 * l1_loss\n",
        "        errG.backward()\n",
        "        optimizerG.step()\n",
        "\n",
        "    print(f\"Epoch [{epoch+1}/{num_epochs}] Loss_D: {errD_real.item() + errD_fake.item()}, Loss_G: {errG.item()}\")\n"
      ]
    },
    {
      "cell_type": "code",
      "execution_count": null,
      "metadata": {
        "id": "Uh7zwuZ3ggfs"
      },
      "outputs": [],
      "source": [
        "# Test and visualize results (this is just an example)\n",
        "test_data = next(iter(dataloader))[0]\n",
        "test_images = test_data.numpy().transpose((0, 2, 3, 1))\n",
        "lab_images = np.array([rgb2lab(img) for img in test_images])\n",
        "l_channels = torch.tensor(lab_images[:, :, :, 0]).unsqueeze(1).float()\n",
        "\n",
        "with torch.no_grad():\n",
        "    fake_ab = netG(l_channels)\n",
        "\n",
        "# Convert back to RGB for visualization\n",
        "generated_images = []\n",
        "for i in range(fake_ab.size(0)):\n",
        "    l = l_channels[i].squeeze(0).numpy()\n",
        "    ab = fake_ab[i].permute(1, 2, 0).numpy()\n",
        "    generated_image = lab_to_rgb(l, ab)\n",
        "    generated_images.append(generated_image)\n",
        "\n",
        "# Now `generated_images` contains the colorized images for visualization.\n"
      ]
    },
    {
      "cell_type": "code",
      "execution_count": null,
      "metadata": {
        "id": "qpSBIo1Zggfs",
        "outputId": "be08322b-d221-47a8-a8d6-b476c4bef214"
      },
      "outputs": [
        {
          "name": "stdout",
          "output_type": "stream",
          "text": [
            "(64, 64, 64, 3)\n"
          ]
        },
        {
          "data": {
            "image/png": "[encoded data removed]",
            "text/plain": [
              "<Figure size 1000x500 with 2 Axes>"
            ]
          },
          "metadata": {},
          "output_type": "display_data"
        }
      ],
      "source": [
        "import matplotlib.pyplot as plt\n",
        "\n",
        "fig, ax = plt.subplots(1, 2, figsize=(10, 5))\n",
        "ax[0].imshow(generated_images[0])\n",
        "ax[0].set_title('Generated image')\n",
        "ax[0].axis('off')\n",
        "print(np.shape(generated_images))\n",
        "ax[1].imshow(test_images[0])\n",
        "ax[1].set_title('True image')\n",
        "ax[1].axis('off')\n",
        "\n",
        "plt.show()\n",
        "\n"
      ]
    },
    {
      "cell_type": "code",
      "execution_count": null,
      "metadata": {
        "id": "VQjlvNETggft"
      },
      "outputs": [],
      "source": []
    }
  ],
  "metadata": {
    "kernelspec": {
      "display_name": "computervision",
      "language": "python",
      "name": "python3"
    },
    "language_info": {
      "codemirror_mode": {
        "name": "ipython",
        "version": 3
      },
      "file_extension": ".py",
      "mimetype": "text/x-python",
      "name": "python",
      "nbconvert_exporter": "python",
      "pygments_lexer": "ipython3",
      "version": "3.10.14"
    },
    "colab": {
      "provenance": [],
      "include_colab_link": true
    }
  },
  "nbformat": 4,
  "nbformat_minor": 0
}